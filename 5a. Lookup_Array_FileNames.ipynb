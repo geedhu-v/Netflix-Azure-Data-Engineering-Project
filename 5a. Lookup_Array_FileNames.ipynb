{
 "cells": [
  {
   "cell_type": "markdown",
   "metadata": {
    "application/vnd.databricks.v1+cell": {
     "cellMetadata": {},
     "inputWidgets": {},
     "nuid": "cec8471a-a7fd-4b2c-ae4d-ac6cad5e03ce",
     "showTitle": false,
     "tableResultSettingsMap": {},
     "title": ""
    }
   },
   "source": [
    "### Array parameter "
   ]
  },
  {
   "cell_type": "code",
   "execution_count": 0,
   "metadata": {
    "application/vnd.databricks.v1+cell": {
     "cellMetadata": {
      "byteLimit": 2048000,
      "rowLimit": 10000
     },
     "inputWidgets": {},
     "nuid": "0e97d107-44dd-44c0-9a69-fbc217ebae34",
     "showTitle": false,
     "tableResultSettingsMap": {},
     "title": ""
    }
   },
   "outputs": [],
   "source": [
    "files = [\n",
    "    {\"sourceFolder\":\"netflix_directors\",\n",
    "     \"targetFolder\":\"netflix_directors\"\n",
    "    },\n",
    "    {\n",
    "     \"sourceFolder\":\"netflix_cast\",\n",
    "     \"targetFolder\":\"netflix_cast\" \n",
    "    },\n",
    "    {\n",
    "     \"sourceFolder\" : \"netflix_title\",\n",
    "     \"targetFolder\" : \"netflix_title\" \n",
    "    },\n",
    "    {\n",
    "     \"sourceFolder\" : \"netflix_category\",\n",
    "     \"targetFolder\" : \"netflix_category\" \n",
    "    },\n",
    "    {\n",
    "     \"sourceFolder\" : \"netflix_countries\",\n",
    "     \"targetFolder\" : \"netflix_countries\" \n",
    "    }\n",
    "]"
   ]
  },
  {
   "cell_type": "markdown",
   "metadata": {
    "application/vnd.databricks.v1+cell": {
     "cellMetadata": {},
     "inputWidgets": {},
     "nuid": "d65b5eb7-6dc1-42cd-93b1-1b2b4f9cf743",
     "showTitle": false,
     "tableResultSettingsMap": {},
     "title": ""
    }
   },
   "source": [
    "## Job utitlity to return the Array"
   ]
  },
  {
   "cell_type": "code",
   "execution_count": 0,
   "metadata": {
    "application/vnd.databricks.v1+cell": {
     "cellMetadata": {
      "byteLimit": 2048000,
      "rowLimit": 10000
     },
     "inputWidgets": {},
     "nuid": "8c7337c6-8b88-4f70-80a2-688d320f7b26",
     "showTitle": false,
     "tableResultSettingsMap": {},
     "title": ""
    }
   },
   "outputs": [],
   "source": [
    "dbutils.jobs.taskValues.set(key = \"my_arr\", value = files)"
   ]
  },
  {
   "cell_type": "code",
   "execution_count": 0,
   "metadata": {
    "application/vnd.databricks.v1+cell": {
     "cellMetadata": {},
     "inputWidgets": {},
     "nuid": "abb87a78-6853-4386-a37c-e9dc1a3d38a7",
     "showTitle": false,
     "tableResultSettingsMap": {},
     "title": ""
    }
   },
   "outputs": [],
   "source": []
  }
 ],
 "metadata": {
  "application/vnd.databricks.v1+notebook": {
   "computePreferences": null,
   "dashboards": [],
   "environmentMetadata": {
    "base_environment": "",
    "environment_version": "2"
   },
   "inputWidgetPreferences": null,
   "language": "python",
   "notebookMetadata": {
    "pythonIndentUnit": 4
   },
   "notebookName": "Lookup_Notebook",
   "widgets": {}
  },
  "language_info": {
   "name": "python"
  }
 },
 "nbformat": 4,
 "nbformat_minor": 0
}